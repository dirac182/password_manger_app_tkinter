{
 "cells": [
  {
   "cell_type": "code",
   "execution_count": 1,
   "id": "9a0cf6da-8c65-4b66-8c05-de3265752662",
   "metadata": {},
   "outputs": [],
   "source": [
    "from IPython.display import clear_output\n",
    "from cryptography.fernet import  Fernet\n",
    "import random\n",
    "import string\n",
    "import itertools"
   ]
  },
  {
   "cell_type": "code",
   "execution_count": 2,
   "id": "1e6bc6dd-d9a2-42d7-9777-4060c6c3a32d",
   "metadata": {},
   "outputs": [],
   "source": [
    "class Ran_gen():\n",
    "    \n",
    "    def __init__(self):\n",
    "        \n",
    "        self.void = []  \n",
    "        \n",
    "        \n",
    "    def generator(self,letters,numbers,symbols):\n",
    "          \n",
    "        self.letters = letters\n",
    "        self.symbols = symbols\n",
    "        self.numbers = numbers\n",
    "        \n",
    "        \n",
    "        alpha = list(string.ascii_letters)\n",
    "        nums = list(string.digits)\n",
    "        syms = list(string.punctuation)\n",
    "        \n",
    "        main_list = []\n",
    "        \n",
    "\n",
    "        for num in range(letters):\n",
    "            alpha_list = random.choice(alpha)\n",
    "            main_list.append(alpha_list)\n",
    "\n",
    "        for num in range(numbers):\n",
    "            num_list = random.choice(nums)\n",
    "            main_list.append(num_list)\n",
    "\n",
    "        for num in range(symbols):\n",
    "            sym_list = random.choice(syms)\n",
    "            main_list.append(sym_list)\n",
    "\n",
    "        random.shuffle(main_list)\n",
    "\n",
    "        new_pass = ''.join(map(str, main_list))\n",
    "        print(new_pass)\n",
    "        return new_pass\n",
    "        "
   ]
  },
  {
   "cell_type": "code",
   "execution_count": 3,
   "id": "008211bd-26bb-4525-945a-d1f0281f524b",
   "metadata": {},
   "outputs": [],
   "source": [
    "class Ask():\n",
    "    \n",
    "    def __init__(self):\n",
    "        self.range_list = [nums for nums in range(26)] \n",
    "        \n",
    "    def user_characters(self):\n",
    "        \n",
    "        a = 'none'\n",
    "        b = 'none'\n",
    "        c = 'none'\n",
    "        \n",
    "        while a not in self.range_list:\n",
    "            \n",
    "            a = input('How many letters do you want in your password?')\n",
    "            if a not in str(self.range_list):\n",
    "                clear_output()\n",
    "                print('Invalid entry.')\n",
    "            else:\n",
    "                break\n",
    "                             \n",
    "        while b not in self.range_list:\n",
    "            b = input('How many numbers?')\n",
    "            if b not in str(self.range_list):\n",
    "                clear_output()\n",
    "                print('Invalid entry.')\n",
    "            else:\n",
    "                break\n",
    "        \n",
    "        while c not in self.range_list:\n",
    "            c = input('How many symbols?')\n",
    "            if c not in str(self.range_list):\n",
    "                clear_output()\n",
    "                print('Invalid entry.')\n",
    "            else:\n",
    "                break\n",
    "        \n",
    "        return a,b,c\n",
    "    \n",
    "    def user_site(self):\n",
    "        \n",
    "        site = input('What website is this password for?')\n",
    "        return site\n",
    "        \n",
    "    def username(self):\n",
    "        \n",
    "        username = input('What is your username for this site?')\n",
    "        return username\n",
    "        \n",
    "        "
   ]
  },
  {
   "cell_type": "code",
   "execution_count": 4,
   "id": "ddef6bdb-bc66-4fec-9186-ae9a27452ccf",
   "metadata": {},
   "outputs": [
    {
     "name": "stdin",
     "output_type": "stream",
     "text": [
      "What website is this password for? Google\n",
      "What is your username for this site? Derrick\n",
      "How many letters do you want in your password? 6\n",
      "How many numbers? 3\n",
      "How many symbols? 2\n"
     ]
    },
    {
     "name": "stdout",
     "output_type": "stream",
     "text": [
      "72(bzxE`Mm0\n"
     ]
    },
    {
     "name": "stdin",
     "output_type": "stream",
     "text": [
      "Are you happy with this password? (y/n) n\n"
     ]
    },
    {
     "name": "stdout",
     "output_type": "stream",
     "text": [
      "Y5C6zJdf6^]\n"
     ]
    },
    {
     "name": "stdin",
     "output_type": "stream",
     "text": [
      "Are you happy with this password? (y/n) n\n"
     ]
    },
    {
     "name": "stdout",
     "output_type": "stream",
     "text": [
      "r1OB8z+1c_M\n"
     ]
    },
    {
     "name": "stdin",
     "output_type": "stream",
     "text": [
      "Are you happy with this password? (y/n) y\n"
     ]
    },
    {
     "name": "stdout",
     "output_type": "stream",
     "text": [
      "Your Username and password for Google are now saved. \n",
      "Username: Derrick \n",
      "Password: r1OB8z+1c_M\n"
     ]
    }
   ],
   "source": [
    "ask = Ask()\n",
    "gen = Ran_gen()\n",
    "site = ask.user_site()\n",
    "usr = ask.username()\n",
    "ins = ask.user_characters()\n",
    "gen_on = True\n",
    "while gen_on:\n",
    "    gen1 = gen.generator(int(ins[0]),int(ins[1]),int(ins[2]))\n",
    "    check = 'none'\n",
    "    while check not in ['y','n','Y','N']:\n",
    "        check = input('Are you happy with this password? (y/n)')\n",
    "        if check not in ['y','n','Y','N']:\n",
    "            clear_output()\n",
    "            print('Invalid entry.')\n",
    "        else:\n",
    "            pass\n",
    "    if check in ['n','N']:\n",
    "        gen_on = True\n",
    "    elif check in ['y','Y']:\n",
    "        gen_on = False\n",
    "        info = print(f'Your Username and password for {site} are now saved. \\nUsername: {usr} \\nPassword: {gen1}')\n",
    "        "
   ]
  },
  {
   "cell_type": "code",
   "execution_count": null,
   "id": "681cb147-cbc2-463a-98e1-214355970674",
   "metadata": {},
   "outputs": [],
   "source": []
  }
 ],
 "metadata": {
  "kernelspec": {
   "display_name": "Python 3 (ipykernel)",
   "language": "python",
   "name": "python3"
  },
  "language_info": {
   "codemirror_mode": {
    "name": "ipython",
    "version": 3
   },
   "file_extension": ".py",
   "mimetype": "text/x-python",
   "name": "python",
   "nbconvert_exporter": "python",
   "pygments_lexer": "ipython3",
   "version": "3.10.7"
  }
 },
 "nbformat": 4,
 "nbformat_minor": 5
}
